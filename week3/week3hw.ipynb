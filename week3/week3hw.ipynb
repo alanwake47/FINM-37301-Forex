{
 "cells": [
  {
   "cell_type": "code",
   "execution_count": 1,
   "metadata": {},
   "outputs": [],
   "source": [
    "import pandas as pd\n",
    "import numpy as np\n",
    "import math\n",
    "from IPython.display import Markdown, display\n",
    "def printmd(string):\n",
    "    display(Markdown(string))  \n",
    "from scipy.stats import norm\n",
    "import datetime as dt\n",
    "from scipy.optimize import fsolve\n",
    "pd.options.display.float_format = '{:.4f}'.format\n",
    "from matplotlib import pyplot as plt\n",
    "import warnings\n",
    "from IPython.display import display, Math, Latex\n",
    "warnings.filterwarnings(\"ignore\")\n",
    "pd.set_option(\"display.precision\", 4)"
   ]
  },
  {
   "attachments": {},
   "cell_type": "markdown",
   "metadata": {},
   "source": [
    "#### Problem 22"
   ]
  },
  {
   "cell_type": "code",
   "execution_count": 2,
   "metadata": {},
   "outputs": [
    {
     "data": {
      "text/markdown": [
       "$$P_{d/f} = 0.0177$$"
      ],
      "text/plain": [
       "<IPython.core.display.Markdown object>"
      ]
     },
     "metadata": {},
     "output_type": "display_data"
    },
    {
     "data": {
      "text/markdown": [
       "$$P_{f} = 0.0146$$"
      ],
      "text/plain": [
       "<IPython.core.display.Markdown object>"
      ]
     },
     "metadata": {},
     "output_type": "display_data"
    },
    {
     "data": {
      "text/markdown": [
       "$$P_{d} = 0.0151$$"
      ],
      "text/plain": [
       "<IPython.core.display.Markdown object>"
      ]
     },
     "metadata": {},
     "output_type": "display_data"
    },
    {
     "data": {
      "text/markdown": [
       "$$P_{f/d} = 0.0125$$"
      ],
      "text/plain": [
       "<IPython.core.display.Markdown object>"
      ]
     },
     "metadata": {},
     "output_type": "display_data"
    },
    {
     "data": {
      "text/markdown": [
       "$$USD\\ Premium = 1505069.6564$$"
      ],
      "text/plain": [
       "<IPython.core.display.Markdown object>"
      ]
     },
     "metadata": {},
     "output_type": "display_data"
    },
    {
     "data": {
      "text/markdown": [
       "$$GBP\\ Premium = 1239760.8372$$"
      ],
      "text/plain": [
       "<IPython.core.display.Markdown object>"
      ]
     },
     "metadata": {},
     "output_type": "display_data"
    }
   ],
   "source": [
    "K = 1.1700\n",
    "S = 1.2140\n",
    "Notional = 85000000\n",
    "TradeDate = dt.datetime(2023, 2, 23)\n",
    "ExpDate = dt.datetime(2023, 8, 23)\n",
    "SpotDate = dt.datetime(2023, 2, 27)\n",
    "DeliveryDate = dt.datetime(2023, 8, 25)\n",
    "rate_usd = 0.0475\n",
    "rate_gbp = 0.0375\n",
    "sigma = 0.1135\n",
    "w = -1\n",
    "\n",
    "act_days = (DeliveryDate - SpotDate).days\n",
    "tau_days = (ExpDate - TradeDate).days\n",
    "\n",
    "Pd = 1 / (1 + rate_usd * act_days / 360)\n",
    "Pf = 1 / (1 + rate_gbp * act_days / 365)\n",
    "\n",
    "F = S * Pf / Pd\n",
    "\n",
    "d1 = (math.log(F / K) + (0.5 * sigma ** 2) * tau_days / 365) / (sigma * math.sqrt(tau_days / 365))\n",
    "d2 = d1 - sigma * math.sqrt(tau_days / 365)\n",
    "\n",
    "Pd_continous = math.exp(-rate_usd * tau_days / 365)\n",
    "\n",
    "P_d_f = Pd_continous * w * (F * norm.cdf(w * d1) - K * norm.cdf(w * d2))\n",
    "P_f = P_d_f / S\n",
    "P_d = P_d_f / K\n",
    "P_f_d = P_d_f / (S * K)\n",
    "\n",
    "USD_premium = Notional * P_d_f\n",
    "GBP_premium = Notional * P_f\n",
    "\n",
    "#Print latex P_{d/f}\n",
    "printmd(r'$$P_{d/f} = %.4f$$' % P_d_f)\n",
    "#Print latex P_{f}\n",
    "printmd(r'$$P_{f} = %.4f$$' % P_f)\n",
    "#Print latex P_{d}\n",
    "printmd(r'$$P_{d} = %.4f$$' % P_d)\n",
    "#Print latex P_{f/d}\n",
    "printmd(r'$$P_{f/d} = %.4f$$' % P_f_d)\n",
    "\n",
    "printmd(r'$$USD\\ Premium = %.4f$$' % USD_premium)\n",
    "printmd(r'$$GBP\\ Premium = %.4f$$' % GBP_premium)"
   ]
  },
  {
   "cell_type": "code",
   "execution_count": 3,
   "metadata": {},
   "outputs": [
    {
     "data": {
      "text/plain": [
       "0.3134885922024644"
      ]
     },
     "execution_count": 3,
     "metadata": {},
     "output_type": "execute_result"
    }
   ],
   "source": [
    "norm.cdf(w * d2)"
   ]
  },
  {
   "cell_type": "code",
   "execution_count": 4,
   "metadata": {},
   "outputs": [
    {
     "data": {
      "text/markdown": [
       "Pips Spot Delta **$$\\Delta_{S,d/f} = -0.2805$$**"
      ],
      "text/plain": [
       "<IPython.core.display.Markdown object>"
      ]
     },
     "metadata": {},
     "output_type": "display_data"
    },
    {
     "data": {
      "text/markdown": [
       "Premium included Delta **$$\\Delta^{pi} = -0.2950$$**"
      ],
      "text/plain": [
       "<IPython.core.display.Markdown object>"
      ]
     },
     "metadata": {},
     "output_type": "display_data"
    },
    {
     "data": {
      "text/markdown": [
       "Percentage Spot Delta **$$\\Delta_{S,f} = -0.2951$$**"
      ],
      "text/plain": [
       "<IPython.core.display.Markdown object>"
      ]
     },
     "metadata": {},
     "output_type": "display_data"
    }
   ],
   "source": [
    "Pf_continous = math.exp(-rate_gbp * tau_days / 365)\n",
    "delta_S_d_f = w * Pf_continous * norm.cdf(w * d1)\n",
    "delta_p_i = delta_S_d_f - P_f\n",
    "delta_S_f_ = (K/S) * w * Pd_continous * norm.cdf(w * d2)\n",
    "printmd(r'Pips Spot Delta **$$\\Delta_{S,d/f} = %.4f$$**' % delta_S_d_f)\n",
    "printmd(r'Premium included Delta **$$\\Delta^{pi} = %.4f$$**' % delta_p_i)\n",
    "printmd(r'Percentage Spot Delta **$$\\Delta_{S,f} = %.4f$$**' % delta_S_f_)"
   ]
  },
  {
   "cell_type": "code",
   "execution_count": 5,
   "metadata": {},
   "outputs": [
    {
     "data": {
      "text/plain": [
       "0.0"
      ]
     },
     "execution_count": 5,
     "metadata": {},
     "output_type": "execute_result"
    }
   ],
   "source": [
    "#calculate inverse norm of 0.5\n",
    "norm.ppf(0.5)"
   ]
  },
  {
   "cell_type": "code",
   "execution_count": 6,
   "metadata": {},
   "outputs": [],
   "source": [
    "#define a box muller function to generate standard normal random numbers\n",
    "def box_muller():\n",
    "    u1 = np.random.uniform(0, 1)\n",
    "    u2 = np.random.uniform(0, 1)\n",
    "    z1 = np.sqrt(-2 * np.log(u1)) * np.cos(2 * np.pi * u2)\n",
    "    z2 = np.sqrt(-2 * np.log(u1)) * np.sin(2 * np.pi * u2)\n",
    "    return z1, z2"
   ]
  },
  {
   "cell_type": "code",
   "execution_count": 7,
   "metadata": {},
   "outputs": [
    {
     "data": {
      "text/plain": [
       "(1.8200412794344782, 1.4041224594403934)"
      ]
     },
     "execution_count": 7,
     "metadata": {},
     "output_type": "execute_result"
    }
   ],
   "source": [
    "box_muller()"
   ]
  },
  {
   "cell_type": "code",
   "execution_count": 21,
   "metadata": {},
   "outputs": [
    {
     "data": {
      "image/png": "[encoded data removed]",
      "text/latex": [
       "$\\displaystyle -0.0909447909448364$"
      ],
      "text/plain": [
       "-0.09094479094483643"
      ]
     },
     "execution_count": 21,
     "metadata": {},
     "output_type": "execute_result"
    }
   ],
   "source": [
    "#write mathematical equations and solve them. import required libraries\n",
    "from sympy import *\n",
    "from sympy.solvers import solve\n",
    "from sympy import Symbol\n",
    "from sympy import symbols\n",
    "from sympy import init_printing\n",
    "init_printing(use_unicode=True)\n",
    "\n",
    "S_0 = 1.2030\n",
    "rf = 0.0415\n",
    "rd = 0.0460\n",
    "tau = 0.62\n",
    "sigma = 0.1155\n",
    "F = S_0 * Pf/Pd\n",
    "Pf = exp(-rf * tau)\n",
    "Pd = exp(-rd * tau)\n",
    "K = F * exp(sigma**2 * tau/2)\n",
    "d1 = (math.log(F / K) + (0.5 * sigma ** 2) * tau) / (sigma * math.sqrt(tau))\n",
    "d1 = 0\n",
    "d2 = d1 - sigma * math.sqrt(tau)\n",
    "d2"
   ]
  },
  {
   "cell_type": "code",
   "execution_count": 23,
   "metadata": {},
   "outputs": [
    {
     "data": {
      "image/png": "[encoded data removed]",
      "text/latex": [
       "$\\displaystyle 0.398942280401433$"
      ],
      "text/plain": [
       "0.3989422804014327"
      ]
     },
     "execution_count": 23,
     "metadata": {},
     "output_type": "execute_result"
    }
   ],
   "source": [
    "1/math.sqrt(2*math.pi)"
   ]
  }
 ],
 "metadata": {
  "kernelspec": {
   "display_name": "base",
   "language": "python",
   "name": "python3"
  },
  "language_info": {
   "codemirror_mode": {
    "name": "ipython",
    "version": 3
   },
   "file_extension": ".py",
   "mimetype": "text/x-python",
   "name": "python",
   "nbconvert_exporter": "python",
   "pygments_lexer": "ipython3",
   "version": "3.9.13"
  },
  "orig_nbformat": 4,
  "vscode": {
   "interpreter": {
    "hash": "3aebcf67cc29b314be79f51fd8d1736517ecad5ca0a5890edf173d6fd802b996"
   }
  }
 },
 "nbformat": 4,
 "nbformat_minor": 2
}
